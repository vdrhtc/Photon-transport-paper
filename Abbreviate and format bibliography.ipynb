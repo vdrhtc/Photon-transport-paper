{
 "cells": [
  {
   "cell_type": "code",
   "execution_count": 1,
   "metadata": {},
   "outputs": [],
   "source": [
    "name = \"papers_bibliography.bib\""
   ]
  },
  {
   "cell_type": "code",
   "execution_count": 55,
   "metadata": {},
   "outputs": [
    {
     "name": "stdout",
     "output_type": "stream",
     "text": [
      "Replacing 'Advancement of Science' FOR 'Adv. Sci.'\n",
      "Replacing 'Computer Physics Communications' FOR 'Comput. Phys. Commun.'\n",
      "Replacing 'Europhysics Letters' FOR 'Europhys. Lett.'\n",
      "Replacing 'Nature Physics' FOR 'Nat. Phys.'\n",
      "Replacing 'npj Quantum Information' FOR 'npj Quantum Inf.'\n",
      "Replacing 'Physical Review' FOR 'Phys. Rev.'\n",
      "Replacing 'Quantum Information Processing' FOR 'Quantum Inf. Process.'\n",
      "Replacing 'Quantum Optics' FOR 'Quantum Opt.'\n",
      "Replacing 'Reports on Progress in Physics' FOR 'Rep. Prog. Phys.'\n",
      "Bibtex database with abbreviated files saved into 'abbreviated.bib'\n"
     ]
    }
   ],
   "source": [
    "import sys, os, re\n",
    "import urllib.request\n",
    "try:    bibtexdb = open(name).read()\n",
    "except: print(\"Error: specify the file to be processed!\")\n",
    "\n",
    "\n",
    "response = urllib.request.urlopen(\"https://gist.githubusercontent.com/FilipDominec/6df14b3424e335c4a47a96640f7f0df9/raw/74876d2d5df9ed60492ef3a14dc3599a6a6a9cfc/journalList.txt\")\n",
    "data = response.read()\n",
    "rulesfile = data.decode('utf-8')\n",
    "\n",
    "\n",
    "for rule in rulesfile.split(\"\\n\")[:-1]:           ## reversed alphabetical order matches extended journal names first\n",
    "    pattern1, pattern2 = rule.strip().split(\" = \")\n",
    "    if pattern1 != pattern1.upper() and (' ' in pattern1):        ## avoid mere abbreviations\n",
    "        #bibtexdb = bibtexdb.replace(pattern1.strip(), pattern2.strip())    ## problem - this is case sensitive\n",
    "        repl = re.compile(re.escape(pattern1), re.IGNORECASE)               ## this is more robust, although ca. 10x slower\n",
    "        (bibtexdb, num_subs) = repl.subn(pattern2, bibtexdb)\n",
    "        if num_subs > 0:\n",
    "            print(\"Replacing '%s' FOR '%s'\" % (pattern1, pattern2))\n",
    "\n",
    "repl = re.compile(re.escape(pattern1), re.IGNORECASE)\n",
    "            \n",
    "with open('abbreviated.bib', 'w') as outfile:\n",
    "    outfile.write(bibtexdb)\n",
    "print(\"Bibtex database with abbreviated files saved into 'abbreviated.bib'\")"
   ]
  },
  {
   "cell_type": "code",
   "execution_count": null,
   "metadata": {},
   "outputs": [],
   "source": []
  }
 ],
 "metadata": {
  "kernelspec": {
   "display_name": "Python 3",
   "language": "python",
   "name": "python3"
  },
  "language_info": {
   "codemirror_mode": {
    "name": "ipython",
    "version": 3
   },
   "file_extension": ".py",
   "mimetype": "text/x-python",
   "name": "python",
   "nbconvert_exporter": "python",
   "pygments_lexer": "ipython3",
   "version": "3.6.6"
  }
 },
 "nbformat": 4,
 "nbformat_minor": 2
}
